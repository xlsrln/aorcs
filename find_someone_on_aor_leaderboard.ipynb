{
  "nbformat": 4,
  "nbformat_minor": 0,
  "metadata": {
    "colab": {
      "name": "find someone on aor leaderboard.ipynb",
      "provenance": [],
      "collapsed_sections": []
    },
    "kernelspec": {
      "name": "python3",
      "display_name": "Python 3"
    },
    "language_info": {
      "name": "python"
    }
  },
  "cells": [
    {
      "cell_type": "code",
      "source": [
        "!git clone https://github.com/xlsrln/aorcs"
      ],
      "metadata": {
        "colab": {
          "base_uri": "https://localhost:8080/"
        },
        "id": "aVg-ZAzg0XXe",
        "outputId": "05a15014-e7fa-4ded-c093-1d57cf6428ed"
      },
      "execution_count": 72,
      "outputs": [
        {
          "output_type": "stream",
          "name": "stdout",
          "text": [
            "fatal: destination path 'aorcs' already exists and is not an empty directory.\n"
          ]
        }
      ]
    },
    {
      "cell_type": "code",
      "execution_count": 73,
      "metadata": {
        "id": "sn9NSqUv0RT9"
      },
      "outputs": [],
      "source": [
        "import requests\n",
        "from io import StringIO\n",
        "import pandas as pd\n",
        "from time import sleep\n",
        "\n",
        "def read_df(string, sep=\"\\t\"):\n",
        "    return pd.read_csv(StringIO(string), sep=sep)"
      ]
    },
    {
      "cell_type": "code",
      "source": [
        "base_url = \"https://www.funselektorfun.com/artofrally/leaderboard/\"\n",
        "\n",
        "car_lookup = pd.read_csv(\"aorcs/resources/car_lookup.csv\")\n",
        "stage_lookup = pd.read_csv(\"aorcs/resources/stage_lookup.csv\")\n",
        "\n",
        "group_dict = {\n",
        "    \"60s\": \"Group 2\", \n",
        "    \"70s\": \"Group 3\", \n",
        "    \"80s\": \"Group 4\", \n",
        "    \"GroupB\": \"Group B\", \n",
        "    \"GroupS\": \"Group S\", \n",
        "    \"GroupA\": \"Group A\",\n",
        "    \"Bonus_Vans\": \"Bonus_Vans\",\n",
        "    \"Bonus_Dakar\": \"Bonus_Dakar\",\n",
        "    \"Bonus_Logging\": \"Bonus_Logging\",\n",
        "    \"Bonus_Monkey\": \"Bonus_Monkey\",\n",
        "}\n",
        "\n",
        "group_dict_inv = {group_dict[k]: k for k in group_dict.keys()}\n",
        "\n",
        "bonus_groups = [\"Bonus_Dakar\", \"Bonus_Logging\", \"Bonus_Monkey\", \"Bonus_Vans\",]"
      ],
      "metadata": {
        "id": "W1ojHcuf0Y4f"
      },
      "execution_count": 74,
      "outputs": []
    },
    {
      "cell_type": "code",
      "source": [
        "stage = 'lake rostavatn - r'\n",
        "group = 'Group 4'\n",
        "name = 'nept'\n",
        "\n",
        "# setup\n",
        "info = stage_lookup.query(f'stage_name == \"{stage}\"').values\n",
        "stage_str = info[0][0] + '_' + info[0][1] + '_Dry_' + group_dict_inv[group]\n",
        "base_str = base_url + stage_str\n",
        "names = []\n",
        "\n",
        "# start with top 10\n",
        "request_str = base_str + \"/0/2\"\n",
        "\n",
        "# loop until reaching the first right name. this can take a while\n",
        "for n in range(100):\n",
        "    response = requests.get(request_str)\n",
        "    temp = eval(response.text)['leaderboard']\n",
        "\n",
        "    temp_users = [(x['userName'], x['userID']) for x in temp]\n",
        "    new_additions = [x for x in temp_users if x[0] not in names and x[1] != '']\n",
        "\n",
        "    if len(new_additions) > 0:\n",
        "        names.extend(new_additions)\n",
        "        last_id = names[-1][1]\n",
        "    else: \n",
        "        break\n",
        "\n",
        "    request_str = base_str + \"/1/2/\" + str(last_id)\n",
        "\n",
        "    if name.lower() in [x[0].lower() for x in names]:\n",
        "        print([x for x in names if x[0].lower() == name.lower()])\n",
        "        break\n",
        "\n",
        "    sleep(5)\n"
      ],
      "metadata": {
        "colab": {
          "base_uri": "https://localhost:8080/"
        },
        "id": "mxls7gBw0e7_",
        "outputId": "ad2d256e-4f2b-43eb-de47-409e8a10bb8d"
      },
      "execution_count": 78,
      "outputs": [
        {
          "output_type": "stream",
          "name": "stdout",
          "text": [
            "[('nept', '76561198053487237')]\n"
          ]
        }
      ]
    },
    {
      "cell_type": "code",
      "source": [
        ""
      ],
      "metadata": {
        "id": "YpQt8bd5biUz"
      },
      "execution_count": null,
      "outputs": []
    }
  ]
}